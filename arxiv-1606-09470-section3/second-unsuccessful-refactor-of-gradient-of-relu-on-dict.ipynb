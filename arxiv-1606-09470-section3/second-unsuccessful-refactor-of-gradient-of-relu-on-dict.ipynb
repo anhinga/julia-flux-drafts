{
 "cells": [
  {
   "cell_type": "code",
   "execution_count": 1,
   "id": "25d58eb0",
   "metadata": {},
   "outputs": [
    {
     "name": "stderr",
     "output_type": "stream",
     "text": [
      "┌ Warning: The NVIDIA driver on this system only supports up to CUDA 10.2.0.\n",
      "│ For performance reasons, it is recommended to upgrade to a driver that supports CUDA 11.2 or higher.\n",
      "└ @ CUDA C:\\Users\\anhin\\.julia\\packages\\CUDA\\Ozu5O\\src\\initialization.jl:42\n"
     ]
    }
   ],
   "source": [
    "using Flux"
   ]
  },
  {
   "cell_type": "code",
   "execution_count": 3,
   "id": "d67d5508",
   "metadata": {},
   "outputs": [],
   "source": [
    "# let's try to incorporate https://github.com/FluxML/Zygote.jl/pull/412"
   ]
  },
  {
   "cell_type": "code",
   "execution_count": 2,
   "id": "dedd3907",
   "metadata": {},
   "outputs": [
    {
     "data": {
      "text/plain": [
       "∇getdictkey (generic function with 1 method)"
      ]
     },
     "execution_count": 2,
     "metadata": {},
     "output_type": "execute_result"
    }
   ],
   "source": [
    "# Just for reuse between get and get!\n",
    "function ∇getdictkey(d::AbstractDict, k, ctx, Δ)\n",
    "    grad = grad_mut(ctx, d)\n",
    "    grad[k] = accum(get(grad, k, nothing), Δ)\n",
    "    return (nothing, grad, nothing)\n",
    "end"
   ]
  },
  {
   "cell_type": "code",
   "execution_count": 6,
   "id": "5aa673c2",
   "metadata": {},
   "outputs": [],
   "source": [
    "using Zygote"
   ]
  },
  {
   "cell_type": "code",
   "execution_count": 8,
   "id": "1cb0a04a",
   "metadata": {},
   "outputs": [],
   "source": [
    "import Zygote: @adjoint!"
   ]
  },
  {
   "cell_type": "code",
   "execution_count": 9,
   "id": "a97d07ef",
   "metadata": {},
   "outputs": [],
   "source": [
    "@adjoint! function get!(f::Function, d::AbstractDict, k)\n",
    "    # Will be replaced if ∇f is called\n",
    "    back = Δ -> ∇getdictkey(d, k, __context__, Δ)\n",
    "\n",
    "    function ∇f()\n",
    "        res,fback = pullback(__context__,f)\n",
    "        back = function(Δ)\n",
    "                Δd = get(grad_mut(__context__, d), k, nothing)\n",
    "                delete!(grad_mut(__context__, d), k)\n",
    "                fback(Δ) # Always return empty tuple due to no arg?\n",
    "                return (nothing, Δd, nothing)\n",
    "            end\n",
    "        return res\n",
    "    end\n",
    "    return get!(∇f, d, k), back\n",
    "end"
   ]
  },
  {
   "cell_type": "code",
   "execution_count": 10,
   "id": "ea127ab9",
   "metadata": {},
   "outputs": [],
   "source": [
    "@adjoint! function get(f::Function, d::AbstractDict, k)\n",
    "    # Will be replaced if ∇f is called\n",
    "    back = Δ -> ∇getdictkey(d, k, __context__, Δ)\n",
    "\n",
    "    function ∇f()\n",
    "        res,fback = pullback(__context__,f)\n",
    "        back = function(Δ)\n",
    "                fback(Δ) # Always return empty tuple due to no arg?\n",
    "                return (nothing, nothing, nothing)\n",
    "            end\n",
    "        return res\n",
    "    end\n",
    "    return get(∇f, d, k), back\n",
    "end"
   ]
  },
  {
   "cell_type": "code",
   "execution_count": 11,
   "id": "daca11fe",
   "metadata": {},
   "outputs": [
    {
     "data": {
      "text/plain": [
       "f (generic function with 1 method)"
      ]
     },
     "execution_count": 11,
     "metadata": {},
     "output_type": "execute_result"
    }
   ],
   "source": [
    "# define ReLU\n",
    "\n",
    "f(x)=max(0,x) # I don't want to use 'relu', because this would mask the built-in Flux 'relu', \n",
    "              #     "
   ]
  },
  {
   "cell_type": "code",
   "execution_count": 12,
   "id": "9f7aa5fa",
   "metadata": {},
   "outputs": [
    {
     "data": {
      "text/plain": [
       "Dict{Any, Float32} with 3 entries:\n",
       "  \"y\" => 4.0\n",
       "  8   => -3.0\n",
       "  :x  => 0.0"
      ]
     },
     "execution_count": 12,
     "metadata": {},
     "output_type": "execute_result"
    }
   ],
   "source": [
    "test_dict = Dict(:x=>0f0, \"y\"=>4f0, 8=>-3f0)"
   ]
  },
  {
   "cell_type": "code",
   "execution_count": 13,
   "id": "b77de7b3",
   "metadata": {},
   "outputs": [
    {
     "data": {
      "text/plain": [
       "my_map (generic function with 1 method)"
      ]
     },
     "execution_count": 13,
     "metadata": {},
     "output_type": "execute_result"
    }
   ],
   "source": [
    "# we did modify it, and it is rather horrible\n",
    "# let's perhaps try to encapsulate this awful behavior\n",
    "\n",
    "function my_map(my_f, my_dict::Dict{Any, Float32})\n",
    "    new_dict = Dict{Any, Float32}()\n",
    "    for k in keys(my_dict)\n",
    "        new_dict[k] = f(my_dict[k])\n",
    "    end\n",
    "    new_dict\n",
    "end"
   ]
  },
  {
   "cell_type": "code",
   "execution_count": 14,
   "id": "7133208b",
   "metadata": {},
   "outputs": [
    {
     "data": {
      "text/plain": [
       "Dict{Any, Float32} with 3 entries:\n",
       "  :x  => 0.0\n",
       "  8   => 0.0\n",
       "  \"y\" => 4.0"
      ]
     },
     "execution_count": 14,
     "metadata": {},
     "output_type": "execute_result"
    }
   ],
   "source": [
    "my_map(f, test_dict)"
   ]
  },
  {
   "cell_type": "code",
   "execution_count": 15,
   "id": "9f590362",
   "metadata": {},
   "outputs": [
    {
     "data": {
      "text/plain": [
       "4.0f0"
      ]
     },
     "execution_count": 15,
     "metadata": {},
     "output_type": "execute_result"
    }
   ],
   "source": [
    "sum(values(my_map(f, test_dict)))"
   ]
  },
  {
   "cell_type": "code",
   "execution_count": 16,
   "id": "0e1ef544",
   "metadata": {},
   "outputs": [
    {
     "data": {
      "text/plain": [
       "Params([])"
      ]
     },
     "execution_count": 16,
     "metadata": {},
     "output_type": "execute_result"
    }
   ],
   "source": [
    "p = params(test_dict)"
   ]
  },
  {
   "cell_type": "code",
   "execution_count": 17,
   "id": "0b79a6cf",
   "metadata": {},
   "outputs": [
    {
     "ename": "LoadError",
     "evalue": "MethodError: no method matching getindex(::Dict{Any, Any})\n\u001b[0mClosest candidates are:\n\u001b[0m  getindex(::Dict{K, V}, \u001b[91m::Any\u001b[39m) where {K, V} at dict.jl:480\n\u001b[0m  getindex(::AbstractDict, \u001b[91m::Any\u001b[39m) at abstractdict.jl:494\n\u001b[0m  getindex(::AbstractDict, \u001b[91m::Any\u001b[39m, \u001b[91m::Any\u001b[39m, \u001b[91m::Any...\u001b[39m) at abstractdict.jl:504",
     "output_type": "error",
     "traceback": [
      "MethodError: no method matching getindex(::Dict{Any, Any})\n\u001b[0mClosest candidates are:\n\u001b[0m  getindex(::Dict{K, V}, \u001b[91m::Any\u001b[39m) where {K, V} at dict.jl:480\n\u001b[0m  getindex(::AbstractDict, \u001b[91m::Any\u001b[39m) at abstractdict.jl:494\n\u001b[0m  getindex(::AbstractDict, \u001b[91m::Any\u001b[39m, \u001b[91m::Any\u001b[39m, \u001b[91m::Any...\u001b[39m) at abstractdict.jl:504",
      "",
      "Stacktrace:",
      "  [1] (::Zygote.var\"#back#202\"{:vals, Zygote.Context, Dict{Any, Float32}, Vector{Float32}})(Δ::Zygote.OneElement{Float32, 1, Tuple{Int64}, Tuple{Base.OneTo{Int64}}})",
      "    @ Zygote C:\\Users\\anhin\\.julia\\packages\\Zygote\\0da6K\\src\\lib\\lib.jl:233",
      "  [2] (::Zygote.var\"#1725#back#203\"{Zygote.var\"#back#202\"{:vals, Zygote.Context, Dict{Any, Float32}, Vector{Float32}}})(Δ::Zygote.OneElement{Float32, 1, Tuple{Int64}, Tuple{Base.OneTo{Int64}}})",
      "    @ Zygote C:\\Users\\anhin\\.julia\\packages\\ZygoteRules\\OjfTt\\src\\adjoint.jl:59",
      "  [3] Pullback",
      "    @ .\\Base.jl:33 [inlined]",
      "  [4] (::typeof(∂(getproperty)))(Δ::Zygote.OneElement{Float32, 1, Tuple{Int64}, Tuple{Base.OneTo{Int64}}})",
      "    @ Zygote C:\\Users\\anhin\\.julia\\packages\\Zygote\\0da6K\\src\\compiler\\interface2.jl:0",
      "  [5] Pullback",
      "    @ C:\\Users\\anhin\\.julia\\packages\\ZygoteRules\\OjfTt\\src\\ZygoteRules.jl:11 [inlined]",
      "  [6] (::typeof(∂(literal_getproperty)))(Δ::Zygote.OneElement{Float32, 1, Tuple{Int64}, Tuple{Base.OneTo{Int64}}})",
      "    @ Zygote C:\\Users\\anhin\\.julia\\packages\\Zygote\\0da6K\\src\\compiler\\interface2.jl:0",
      "  [7] Pullback",
      "    @ .\\dict.jl:697 [inlined]",
      "  [8] (::typeof(∂(iterate)))(Δ::Tuple{Float32, Nothing})",
      "    @ Zygote C:\\Users\\anhin\\.julia\\packages\\Zygote\\0da6K\\src\\compiler\\interface2.jl:0",
      "  [9] Pullback",
      "    @ .\\reduce.jl:60 [inlined]",
      " [10] (::typeof(∂(_foldl_impl)))(Δ::Float32)",
      "    @ Zygote C:\\Users\\anhin\\.julia\\packages\\Zygote\\0da6K\\src\\compiler\\interface2.jl:0",
      " [11] Pullback",
      "    @ .\\reduce.jl:48 [inlined]",
      " [12] (::typeof(∂(foldl_impl)))(Δ::Float32)",
      "    @ Zygote C:\\Users\\anhin\\.julia\\packages\\Zygote\\0da6K\\src\\compiler\\interface2.jl:0",
      " [13] Pullback",
      "    @ .\\reduce.jl:44 [inlined]",
      " [14] (::typeof(∂(mapfoldl_impl)))(Δ::Float32)",
      "    @ Zygote C:\\Users\\anhin\\.julia\\packages\\Zygote\\0da6K\\src\\compiler\\interface2.jl:0",
      " [15] Pullback (repeats 2 times)",
      "    @ .\\reduce.jl:160 [inlined]",
      " [16] (::typeof(∂(mapfoldl)))(Δ::Float32)",
      "    @ Zygote C:\\Users\\anhin\\.julia\\packages\\Zygote\\0da6K\\src\\compiler\\interface2.jl:0",
      " [17] Pullback",
      "    @ .\\reduce.jl:287 [inlined]",
      " [18] (::typeof(∂(#mapreduce#218)))(Δ::Float32)",
      "    @ Zygote C:\\Users\\anhin\\.julia\\packages\\Zygote\\0da6K\\src\\compiler\\interface2.jl:0",
      " [19] Pullback",
      "    @ .\\reduce.jl:287 [inlined]",
      " [20] (::typeof(∂(mapreduce)))(Δ::Float32)",
      "    @ Zygote C:\\Users\\anhin\\.julia\\packages\\Zygote\\0da6K\\src\\compiler\\interface2.jl:0",
      " [21] Pullback",
      "    @ .\\reduce.jl:501 [inlined]",
      " [22] (::typeof(∂(#sum#221)))(Δ::Float32)",
      "    @ Zygote C:\\Users\\anhin\\.julia\\packages\\Zygote\\0da6K\\src\\compiler\\interface2.jl:0",
      " [23] Pullback",
      "    @ .\\reduce.jl:501 [inlined]",
      " [24] (::typeof(∂(sum)))(Δ::Float32)",
      "    @ Zygote C:\\Users\\anhin\\.julia\\packages\\Zygote\\0da6K\\src\\compiler\\interface2.jl:0",
      " [25] Pullback",
      "    @ .\\reduce.jl:528 [inlined]",
      " [26] (::typeof(∂(#sum#222)))(Δ::Float32)",
      "    @ Zygote C:\\Users\\anhin\\.julia\\packages\\Zygote\\0da6K\\src\\compiler\\interface2.jl:0",
      " [27] Pullback",
      "    @ .\\reduce.jl:528 [inlined]",
      " [28] (::typeof(∂(sum)))(Δ::Float32)",
      "    @ Zygote C:\\Users\\anhin\\.julia\\packages\\Zygote\\0da6K\\src\\compiler\\interface2.jl:0",
      " [29] Pullback",
      "    @ .\\In[17]:1 [inlined]",
      " [30] (::typeof(∂(#15)))(Δ::Float32)",
      "    @ Zygote C:\\Users\\anhin\\.julia\\packages\\Zygote\\0da6K\\src\\compiler\\interface2.jl:0",
      " [31] (::Zygote.var\"#74#75\"{Params, typeof(∂(#15)), Zygote.Context})(Δ::Float32)",
      "    @ Zygote C:\\Users\\anhin\\.julia\\packages\\Zygote\\0da6K\\src\\compiler\\interface.jl:255",
      " [32] gradient(f::Function, args::Params)",
      "    @ Zygote C:\\Users\\anhin\\.julia\\packages\\Zygote\\0da6K\\src\\compiler\\interface.jl:59",
      " [33] top-level scope",
      "    @ In[17]:1",
      " [34] eval",
      "    @ .\\boot.jl:360 [inlined]",
      " [35] include_string(mapexpr::typeof(REPL.softscope), mod::Module, code::String, filename::String)",
      "    @ Base .\\loading.jl:1094"
     ]
    }
   ],
   "source": [
    "grads = gradient(()->sum(values(my_map(f, test_dict))), p)"
   ]
  },
  {
   "cell_type": "code",
   "execution_count": 18,
   "id": "2876543b",
   "metadata": {},
   "outputs": [
    {
     "data": {
      "text/plain": [
       "my_map2 (generic function with 1 method)"
      ]
     },
     "execution_count": 18,
     "metadata": {},
     "output_type": "execute_result"
    }
   ],
   "source": [
    "function my_map2(my_f, my_dict::Dict{Any, Float32})\n",
    "    new_dict::Dict{Any, Float32} = deepcopy(my_dict)\n",
    "    map!(my_f, values(new_dict::Dict{Any, Float32}))\n",
    "    new_dict\n",
    "end"
   ]
  },
  {
   "cell_type": "code",
   "execution_count": 19,
   "id": "d99b49ca",
   "metadata": {},
   "outputs": [
    {
     "data": {
      "text/plain": [
       "Dict{Any, Float32} with 3 entries:\n",
       "  :x  => 0.0\n",
       "  8   => 0.0\n",
       "  \"y\" => 4.0"
      ]
     },
     "execution_count": 19,
     "metadata": {},
     "output_type": "execute_result"
    }
   ],
   "source": [
    "my_map2(f, test_dict)"
   ]
  },
  {
   "cell_type": "code",
   "execution_count": 20,
   "id": "901230f8",
   "metadata": {},
   "outputs": [
    {
     "data": {
      "text/plain": [
       "4.0f0"
      ]
     },
     "execution_count": 20,
     "metadata": {},
     "output_type": "execute_result"
    }
   ],
   "source": [
    "sum(values(my_map2(f, test_dict)))"
   ]
  },
  {
   "cell_type": "code",
   "execution_count": 21,
   "id": "6ebc6cb5",
   "metadata": {},
   "outputs": [
    {
     "ename": "LoadError",
     "evalue": "MethodError: no method matching getindex(::Dict{Any, Any})\n\u001b[0mClosest candidates are:\n\u001b[0m  getindex(::Dict{K, V}, \u001b[91m::Any\u001b[39m) where {K, V} at dict.jl:480\n\u001b[0m  getindex(::AbstractDict, \u001b[91m::Any\u001b[39m) at abstractdict.jl:494\n\u001b[0m  getindex(::AbstractDict, \u001b[91m::Any\u001b[39m, \u001b[91m::Any\u001b[39m, \u001b[91m::Any...\u001b[39m) at abstractdict.jl:504",
     "output_type": "error",
     "traceback": [
      "MethodError: no method matching getindex(::Dict{Any, Any})\n\u001b[0mClosest candidates are:\n\u001b[0m  getindex(::Dict{K, V}, \u001b[91m::Any\u001b[39m) where {K, V} at dict.jl:480\n\u001b[0m  getindex(::AbstractDict, \u001b[91m::Any\u001b[39m) at abstractdict.jl:494\n\u001b[0m  getindex(::AbstractDict, \u001b[91m::Any\u001b[39m, \u001b[91m::Any\u001b[39m, \u001b[91m::Any...\u001b[39m) at abstractdict.jl:504",
      "",
      "Stacktrace:",
      "  [1] (::Zygote.var\"#back#202\"{:vals, Zygote.Context, Dict{Any, Float32}, Vector{Float32}})(Δ::Zygote.OneElement{Float32, 1, Tuple{Int64}, Tuple{Base.OneTo{Int64}}})",
      "    @ Zygote C:\\Users\\anhin\\.julia\\packages\\Zygote\\0da6K\\src\\lib\\lib.jl:233",
      "  [2] (::Zygote.var\"#1725#back#203\"{Zygote.var\"#back#202\"{:vals, Zygote.Context, Dict{Any, Float32}, Vector{Float32}}})(Δ::Zygote.OneElement{Float32, 1, Tuple{Int64}, Tuple{Base.OneTo{Int64}}})",
      "    @ Zygote C:\\Users\\anhin\\.julia\\packages\\ZygoteRules\\OjfTt\\src\\adjoint.jl:59",
      "  [3] Pullback",
      "    @ .\\Base.jl:33 [inlined]",
      "  [4] (::typeof(∂(getproperty)))(Δ::Zygote.OneElement{Float32, 1, Tuple{Int64}, Tuple{Base.OneTo{Int64}}})",
      "    @ Zygote C:\\Users\\anhin\\.julia\\packages\\Zygote\\0da6K\\src\\compiler\\interface2.jl:0",
      "  [5] Pullback",
      "    @ C:\\Users\\anhin\\.julia\\packages\\ZygoteRules\\OjfTt\\src\\ZygoteRules.jl:11 [inlined]",
      "  [6] (::typeof(∂(literal_getproperty)))(Δ::Zygote.OneElement{Float32, 1, Tuple{Int64}, Tuple{Base.OneTo{Int64}}})",
      "    @ Zygote C:\\Users\\anhin\\.julia\\packages\\Zygote\\0da6K\\src\\compiler\\interface2.jl:0",
      "  [7] Pullback",
      "    @ .\\dict.jl:697 [inlined]",
      "  [8] (::typeof(∂(iterate)))(Δ::Tuple{Float32, Nothing})",
      "    @ Zygote C:\\Users\\anhin\\.julia\\packages\\Zygote\\0da6K\\src\\compiler\\interface2.jl:0",
      "  [9] Pullback",
      "    @ .\\reduce.jl:60 [inlined]",
      " [10] (::typeof(∂(_foldl_impl)))(Δ::Float32)",
      "    @ Zygote C:\\Users\\anhin\\.julia\\packages\\Zygote\\0da6K\\src\\compiler\\interface2.jl:0",
      " [11] Pullback",
      "    @ .\\reduce.jl:48 [inlined]",
      " [12] (::typeof(∂(foldl_impl)))(Δ::Float32)",
      "    @ Zygote C:\\Users\\anhin\\.julia\\packages\\Zygote\\0da6K\\src\\compiler\\interface2.jl:0",
      " [13] Pullback",
      "    @ .\\reduce.jl:44 [inlined]",
      " [14] (::typeof(∂(mapfoldl_impl)))(Δ::Float32)",
      "    @ Zygote C:\\Users\\anhin\\.julia\\packages\\Zygote\\0da6K\\src\\compiler\\interface2.jl:0",
      " [15] Pullback (repeats 2 times)",
      "    @ .\\reduce.jl:160 [inlined]",
      " [16] (::typeof(∂(mapfoldl)))(Δ::Float32)",
      "    @ Zygote C:\\Users\\anhin\\.julia\\packages\\Zygote\\0da6K\\src\\compiler\\interface2.jl:0",
      " [17] Pullback",
      "    @ .\\reduce.jl:287 [inlined]",
      " [18] (::typeof(∂(#mapreduce#218)))(Δ::Float32)",
      "    @ Zygote C:\\Users\\anhin\\.julia\\packages\\Zygote\\0da6K\\src\\compiler\\interface2.jl:0",
      " [19] Pullback",
      "    @ .\\reduce.jl:287 [inlined]",
      " [20] (::typeof(∂(mapreduce)))(Δ::Float32)",
      "    @ Zygote C:\\Users\\anhin\\.julia\\packages\\Zygote\\0da6K\\src\\compiler\\interface2.jl:0",
      " [21] Pullback",
      "    @ .\\reduce.jl:501 [inlined]",
      " [22] (::typeof(∂(#sum#221)))(Δ::Float32)",
      "    @ Zygote C:\\Users\\anhin\\.julia\\packages\\Zygote\\0da6K\\src\\compiler\\interface2.jl:0",
      " [23] Pullback",
      "    @ .\\reduce.jl:501 [inlined]",
      " [24] (::typeof(∂(sum)))(Δ::Float32)",
      "    @ Zygote C:\\Users\\anhin\\.julia\\packages\\Zygote\\0da6K\\src\\compiler\\interface2.jl:0",
      " [25] Pullback",
      "    @ .\\reduce.jl:528 [inlined]",
      " [26] (::typeof(∂(#sum#222)))(Δ::Float32)",
      "    @ Zygote C:\\Users\\anhin\\.julia\\packages\\Zygote\\0da6K\\src\\compiler\\interface2.jl:0",
      " [27] Pullback",
      "    @ .\\reduce.jl:528 [inlined]",
      " [28] (::typeof(∂(sum)))(Δ::Float32)",
      "    @ Zygote C:\\Users\\anhin\\.julia\\packages\\Zygote\\0da6K\\src\\compiler\\interface2.jl:0",
      " [29] Pullback",
      "    @ .\\In[21]:1 [inlined]",
      " [30] (::typeof(∂(#17)))(Δ::Float32)",
      "    @ Zygote C:\\Users\\anhin\\.julia\\packages\\Zygote\\0da6K\\src\\compiler\\interface2.jl:0",
      " [31] (::Zygote.var\"#74#75\"{Params, typeof(∂(#17)), Zygote.Context})(Δ::Float32)",
      "    @ Zygote C:\\Users\\anhin\\.julia\\packages\\Zygote\\0da6K\\src\\compiler\\interface.jl:255",
      " [32] gradient(f::Function, args::Params)",
      "    @ Zygote C:\\Users\\anhin\\.julia\\packages\\Zygote\\0da6K\\src\\compiler\\interface.jl:59",
      " [33] top-level scope",
      "    @ In[21]:1",
      " [34] eval",
      "    @ .\\boot.jl:360 [inlined]",
      " [35] include_string(mapexpr::typeof(REPL.softscope), mod::Module, code::String, filename::String)",
      "    @ Base .\\loading.jl:1094"
     ]
    }
   ],
   "source": [
    "grads = gradient(()->sum(values(my_map2(f, test_dict))), p)"
   ]
  },
  {
   "cell_type": "code",
   "execution_count": null,
   "id": "29e08d3b",
   "metadata": {},
   "outputs": [],
   "source": []
  }
 ],
 "metadata": {
  "kernelspec": {
   "display_name": "Julia 1.6.1",
   "language": "julia",
   "name": "julia-1.6"
  },
  "language_info": {
   "file_extension": ".jl",
   "mimetype": "application/julia",
   "name": "julia",
   "version": "1.6.1"
  }
 },
 "nbformat": 4,
 "nbformat_minor": 5
}

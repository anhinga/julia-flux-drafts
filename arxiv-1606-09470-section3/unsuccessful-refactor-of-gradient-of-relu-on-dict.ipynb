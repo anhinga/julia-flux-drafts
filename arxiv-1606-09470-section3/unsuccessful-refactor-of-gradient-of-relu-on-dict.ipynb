{
 "cells": [
  {
   "cell_type": "code",
   "execution_count": 1,
   "id": "d6ada8db",
   "metadata": {},
   "outputs": [
    {
     "name": "stderr",
     "output_type": "stream",
     "text": [
      "┌ Warning: The NVIDIA driver on this system only supports up to CUDA 10.2.0.\n",
      "│ For performance reasons, it is recommended to upgrade to a driver that supports CUDA 11.2 or higher.\n",
      "└ @ CUDA C:\\Users\\anhin\\.julia\\packages\\CUDA\\Ozu5O\\src\\initialization.jl:42\n"
     ]
    }
   ],
   "source": [
    "using Flux"
   ]
  },
  {
   "cell_type": "code",
   "execution_count": 2,
   "id": "0c0bb81f",
   "metadata": {},
   "outputs": [
    {
     "data": {
      "text/plain": [
       "f (generic function with 1 method)"
      ]
     },
     "execution_count": 2,
     "metadata": {},
     "output_type": "execute_result"
    }
   ],
   "source": [
    "# define ReLU\n",
    "\n",
    "f(x)=max(0,x) # I don't want to use 'relu', because this would mask the built-in Flux 'relu', \n",
    "              #                             and I want to be explicit rather than using a function built into Flux"
   ]
  },
  {
   "cell_type": "code",
   "execution_count": 3,
   "id": "055c566d",
   "metadata": {},
   "outputs": [
    {
     "data": {
      "text/plain": [
       "Dict{Any, Float32} with 3 entries:\n",
       "  \"y\" => 4.0\n",
       "  8   => -3.0\n",
       "  :x  => 0.0"
      ]
     },
     "execution_count": 3,
     "metadata": {},
     "output_type": "execute_result"
    }
   ],
   "source": [
    "test_dict = Dict(:x=>0f0, \"y\"=>4f0, 8=>-3f0)"
   ]
  },
  {
   "cell_type": "code",
   "execution_count": 6,
   "id": "5851cdb7",
   "metadata": {},
   "outputs": [
    {
     "data": {
      "text/plain": [
       "1.0f0"
      ]
     },
     "execution_count": 6,
     "metadata": {},
     "output_type": "execute_result"
    }
   ],
   "source": [
    "sum(values(test_dict))"
   ]
  },
  {
   "cell_type": "code",
   "execution_count": 10,
   "id": "63f03419",
   "metadata": {},
   "outputs": [
    {
     "ename": "LoadError",
     "evalue": "map is not defined on dictionaries",
     "output_type": "error",
     "traceback": [
      "map is not defined on dictionaries",
      "",
      "Stacktrace:",
      " [1] error(s::String)",
      "   @ Base .\\error.jl:33",
      " [2] map(f::Function, #unused#::Dict{Any, Float32})",
      "   @ Base .\\abstractarray.jl:2325",
      " [3] top-level scope",
      "   @ In[10]:1",
      " [4] eval",
      "   @ .\\boot.jl:360 [inlined]",
      " [5] include_string(mapexpr::typeof(REPL.softscope), mod::Module, code::String, filename::String)",
      "   @ Base .\\loading.jl:1094"
     ]
    }
   ],
   "source": [
    "map(f, test_dict) # the root of the problem is that this does not work (and this is horrible!)"
   ]
  },
  {
   "cell_type": "code",
   "execution_count": 8,
   "id": "32868753",
   "metadata": {},
   "outputs": [
    {
     "data": {
      "text/plain": [
       "3-element Vector{Float32}:\n",
       " 4.0\n",
       " 0.0\n",
       " 0.0"
      ]
     },
     "execution_count": 8,
     "metadata": {},
     "output_type": "execute_result"
    }
   ],
   "source": [
    "map(f, values(test_dict))"
   ]
  },
  {
   "cell_type": "code",
   "execution_count": 11,
   "id": "3ca46f3f",
   "metadata": {},
   "outputs": [
    {
     "data": {
      "text/plain": [
       "ValueIterator for a Dict{Any, Float32} with 3 entries. Values:\n",
       "  4.0f0\n",
       "  0.0f0\n",
       "  0.0f0"
      ]
     },
     "execution_count": 11,
     "metadata": {},
     "output_type": "execute_result"
    }
   ],
   "source": [
    "map!(f, values(test_dict))"
   ]
  },
  {
   "cell_type": "code",
   "execution_count": 12,
   "id": "f8aeea2a",
   "metadata": {},
   "outputs": [
    {
     "data": {
      "text/plain": [
       "Dict{Any, Float32} with 3 entries:\n",
       "  \"y\" => 4.0\n",
       "  8   => 0.0\n",
       "  :x  => 0.0"
      ]
     },
     "execution_count": 12,
     "metadata": {},
     "output_type": "execute_result"
    }
   ],
   "source": [
    "test_dict # let's see if we have modified this dictionary by map! on its values"
   ]
  },
  {
   "cell_type": "code",
   "execution_count": 16,
   "id": "4c98ebea",
   "metadata": {},
   "outputs": [
    {
     "data": {
      "text/plain": [
       "my_map (generic function with 1 method)"
      ]
     },
     "execution_count": 16,
     "metadata": {},
     "output_type": "execute_result"
    }
   ],
   "source": [
    "# we did modify it, and it is rather horrible\n",
    "# let's perhaps try to encapsulate this awful behavior\n",
    "\n",
    "function my_map(my_f, my_dict)\n",
    "    new_dict = deepcopy(my_dict)\n",
    "    map!(my_f, values(new_dict))\n",
    "    new_dict\n",
    "end"
   ]
  },
  {
   "cell_type": "code",
   "execution_count": 17,
   "id": "5aec5611",
   "metadata": {},
   "outputs": [
    {
     "data": {
      "text/plain": [
       "Dict{Any, Float32} with 3 entries:\n",
       "  \"y\" => 4.0\n",
       "  8   => -3.0\n",
       "  :x  => 0.0"
      ]
     },
     "execution_count": 17,
     "metadata": {},
     "output_type": "execute_result"
    }
   ],
   "source": [
    "test_dict = Dict(:x=>0f0, \"y\"=>4f0, 8=>-3f0)"
   ]
  },
  {
   "cell_type": "code",
   "execution_count": 18,
   "id": "89b8cbbd",
   "metadata": {},
   "outputs": [
    {
     "data": {
      "text/plain": [
       "Dict{Any, Float32} with 3 entries:\n",
       "  :x  => 0.0\n",
       "  8   => 0.0\n",
       "  \"y\" => 4.0"
      ]
     },
     "execution_count": 18,
     "metadata": {},
     "output_type": "execute_result"
    }
   ],
   "source": [
    "my_map(f, test_dict)"
   ]
  },
  {
   "cell_type": "code",
   "execution_count": 19,
   "id": "a0403389",
   "metadata": {},
   "outputs": [
    {
     "data": {
      "text/plain": [
       "Dict{Any, Float32} with 3 entries:\n",
       "  \"y\" => 4.0\n",
       "  8   => -3.0\n",
       "  :x  => 0.0"
      ]
     },
     "execution_count": 19,
     "metadata": {},
     "output_type": "execute_result"
    }
   ],
   "source": [
    "test_dict"
   ]
  },
  {
   "cell_type": "code",
   "execution_count": 20,
   "id": "af671f0e",
   "metadata": {},
   "outputs": [
    {
     "data": {
      "text/plain": [
       "Params([])"
      ]
     },
     "execution_count": 20,
     "metadata": {},
     "output_type": "execute_result"
    }
   ],
   "source": [
    "# that was a success; let's see if the gradient just works\n",
    "p = params(test_dict)"
   ]
  },
  {
   "cell_type": "code",
   "execution_count": 22,
   "id": "a0b0421a",
   "metadata": {},
   "outputs": [
    {
     "data": {
      "text/plain": [
       "4.0f0"
      ]
     },
     "execution_count": 22,
     "metadata": {},
     "output_type": "execute_result"
    }
   ],
   "source": [
    "sum(values(my_map(f, test_dict)))"
   ]
  },
  {
   "cell_type": "code",
   "execution_count": 23,
   "id": "16afcec0",
   "metadata": {},
   "outputs": [
    {
     "ename": "LoadError",
     "evalue": "MethodError: no method matching getindex(::Dict{Any, Any})\n\u001b[0mClosest candidates are:\n\u001b[0m  getindex(::Dict{K, V}, \u001b[91m::Any\u001b[39m) where {K, V} at dict.jl:480\n\u001b[0m  getindex(::AbstractDict, \u001b[91m::Any\u001b[39m) at abstractdict.jl:494\n\u001b[0m  getindex(::AbstractDict, \u001b[91m::Any\u001b[39m, \u001b[91m::Any\u001b[39m, \u001b[91m::Any...\u001b[39m) at abstractdict.jl:504",
     "output_type": "error",
     "traceback": [
      "MethodError: no method matching getindex(::Dict{Any, Any})\n\u001b[0mClosest candidates are:\n\u001b[0m  getindex(::Dict{K, V}, \u001b[91m::Any\u001b[39m) where {K, V} at dict.jl:480\n\u001b[0m  getindex(::AbstractDict, \u001b[91m::Any\u001b[39m) at abstractdict.jl:494\n\u001b[0m  getindex(::AbstractDict, \u001b[91m::Any\u001b[39m, \u001b[91m::Any\u001b[39m, \u001b[91m::Any...\u001b[39m) at abstractdict.jl:504",
      "",
      "Stacktrace:",
      "  [1] (::Zygote.var\"#back#202\"{:vals, Zygote.Context, Dict{Any, Float32}, Vector{Float32}})(Δ::Zygote.OneElement{Float32, 1, Tuple{Int64}, Tuple{Base.OneTo{Int64}}})",
      "    @ Zygote C:\\Users\\anhin\\.julia\\packages\\Zygote\\0da6K\\src\\lib\\lib.jl:233",
      "  [2] (::Zygote.var\"#1725#back#203\"{Zygote.var\"#back#202\"{:vals, Zygote.Context, Dict{Any, Float32}, Vector{Float32}}})(Δ::Zygote.OneElement{Float32, 1, Tuple{Int64}, Tuple{Base.OneTo{Int64}}})",
      "    @ Zygote C:\\Users\\anhin\\.julia\\packages\\ZygoteRules\\OjfTt\\src\\adjoint.jl:59",
      "  [3] Pullback",
      "    @ .\\Base.jl:33 [inlined]",
      "  [4] (::typeof(∂(getproperty)))(Δ::Zygote.OneElement{Float32, 1, Tuple{Int64}, Tuple{Base.OneTo{Int64}}})",
      "    @ Zygote C:\\Users\\anhin\\.julia\\packages\\Zygote\\0da6K\\src\\compiler\\interface2.jl:0",
      "  [5] Pullback",
      "    @ C:\\Users\\anhin\\.julia\\packages\\ZygoteRules\\OjfTt\\src\\ZygoteRules.jl:11 [inlined]",
      "  [6] (::typeof(∂(literal_getproperty)))(Δ::Zygote.OneElement{Float32, 1, Tuple{Int64}, Tuple{Base.OneTo{Int64}}})",
      "    @ Zygote C:\\Users\\anhin\\.julia\\packages\\Zygote\\0da6K\\src\\compiler\\interface2.jl:0",
      "  [7] Pullback",
      "    @ .\\dict.jl:697 [inlined]",
      "  [8] (::typeof(∂(iterate)))(Δ::Tuple{Float32, Nothing})",
      "    @ Zygote C:\\Users\\anhin\\.julia\\packages\\Zygote\\0da6K\\src\\compiler\\interface2.jl:0",
      "  [9] Pullback",
      "    @ .\\reduce.jl:60 [inlined]",
      " [10] (::typeof(∂(_foldl_impl)))(Δ::Float32)",
      "    @ Zygote C:\\Users\\anhin\\.julia\\packages\\Zygote\\0da6K\\src\\compiler\\interface2.jl:0",
      " [11] Pullback",
      "    @ .\\reduce.jl:48 [inlined]",
      " [12] (::typeof(∂(foldl_impl)))(Δ::Float32)",
      "    @ Zygote C:\\Users\\anhin\\.julia\\packages\\Zygote\\0da6K\\src\\compiler\\interface2.jl:0",
      " [13] Pullback",
      "    @ .\\reduce.jl:44 [inlined]",
      " [14] (::typeof(∂(mapfoldl_impl)))(Δ::Float32)",
      "    @ Zygote C:\\Users\\anhin\\.julia\\packages\\Zygote\\0da6K\\src\\compiler\\interface2.jl:0",
      " [15] Pullback (repeats 2 times)",
      "    @ .\\reduce.jl:160 [inlined]",
      " [16] (::typeof(∂(mapfoldl)))(Δ::Float32)",
      "    @ Zygote C:\\Users\\anhin\\.julia\\packages\\Zygote\\0da6K\\src\\compiler\\interface2.jl:0",
      " [17] Pullback",
      "    @ .\\reduce.jl:287 [inlined]",
      " [18] (::typeof(∂(#mapreduce#218)))(Δ::Float32)",
      "    @ Zygote C:\\Users\\anhin\\.julia\\packages\\Zygote\\0da6K\\src\\compiler\\interface2.jl:0",
      " [19] Pullback",
      "    @ .\\reduce.jl:287 [inlined]",
      " [20] (::typeof(∂(mapreduce)))(Δ::Float32)",
      "    @ Zygote C:\\Users\\anhin\\.julia\\packages\\Zygote\\0da6K\\src\\compiler\\interface2.jl:0",
      " [21] Pullback",
      "    @ .\\reduce.jl:501 [inlined]",
      " [22] (::typeof(∂(#sum#221)))(Δ::Float32)",
      "    @ Zygote C:\\Users\\anhin\\.julia\\packages\\Zygote\\0da6K\\src\\compiler\\interface2.jl:0",
      " [23] Pullback",
      "    @ .\\reduce.jl:501 [inlined]",
      " [24] (::typeof(∂(sum)))(Δ::Float32)",
      "    @ Zygote C:\\Users\\anhin\\.julia\\packages\\Zygote\\0da6K\\src\\compiler\\interface2.jl:0",
      " [25] Pullback",
      "    @ .\\reduce.jl:528 [inlined]",
      " [26] (::typeof(∂(#sum#222)))(Δ::Float32)",
      "    @ Zygote C:\\Users\\anhin\\.julia\\packages\\Zygote\\0da6K\\src\\compiler\\interface2.jl:0",
      " [27] Pullback",
      "    @ .\\reduce.jl:528 [inlined]",
      " [28] (::typeof(∂(sum)))(Δ::Float32)",
      "    @ Zygote C:\\Users\\anhin\\.julia\\packages\\Zygote\\0da6K\\src\\compiler\\interface2.jl:0",
      " [29] Pullback",
      "    @ .\\In[23]:1 [inlined]",
      " [30] (::typeof(∂(#1)))(Δ::Float32)",
      "    @ Zygote C:\\Users\\anhin\\.julia\\packages\\Zygote\\0da6K\\src\\compiler\\interface2.jl:0",
      " [31] (::Zygote.var\"#74#75\"{Zygote.Params, typeof(∂(#1)), Zygote.Context})(Δ::Float32)",
      "    @ Zygote C:\\Users\\anhin\\.julia\\packages\\Zygote\\0da6K\\src\\compiler\\interface.jl:255",
      " [32] gradient(f::Function, args::Zygote.Params)",
      "    @ Zygote C:\\Users\\anhin\\.julia\\packages\\Zygote\\0da6K\\src\\compiler\\interface.jl:59",
      " [33] top-level scope",
      "    @ In[23]:1",
      " [34] eval",
      "    @ .\\boot.jl:360 [inlined]",
      " [35] include_string(mapexpr::typeof(REPL.softscope), mod::Module, code::String, filename::String)",
      "    @ Base .\\loading.jl:1094"
     ]
    }
   ],
   "source": [
    "grads = gradient(()->sum(values(my_map(f, test_dict))), p)"
   ]
  },
  {
   "cell_type": "code",
   "execution_count": 24,
   "id": "2f533328",
   "metadata": {},
   "outputs": [],
   "source": [
    "# this is the relevant issue: https://github.com/FluxML/Zygote.jl/issues/408"
   ]
  },
  {
   "cell_type": "code",
   "execution_count": null,
   "id": "b06e0c38",
   "metadata": {},
   "outputs": [],
   "source": []
  }
 ],
 "metadata": {
  "kernelspec": {
   "display_name": "Julia 1.6.1",
   "language": "julia",
   "name": "julia-1.6"
  },
  "language_info": {
   "file_extension": ".jl",
   "mimetype": "application/julia",
   "name": "julia",
   "version": "1.6.1"
  }
 },
 "nbformat": 4,
 "nbformat_minor": 5
}

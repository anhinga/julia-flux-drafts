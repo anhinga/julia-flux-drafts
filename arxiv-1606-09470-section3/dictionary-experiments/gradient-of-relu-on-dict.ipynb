{
 "cells": [
  {
   "cell_type": "code",
   "execution_count": 1,
   "id": "59464cda",
   "metadata": {},
   "outputs": [
    {
     "data": {
      "text/plain": [
       "5"
      ]
     },
     "execution_count": 1,
     "metadata": {},
     "output_type": "execute_result"
    }
   ],
   "source": [
    "2+3\n"
   ]
  },
  {
   "cell_type": "code",
   "execution_count": 1,
   "id": "8cb200d7",
   "metadata": {},
   "outputs": [
    {
     "name": "stderr",
     "output_type": "stream",
     "text": [
      "┌ Warning: The NVIDIA driver on this system only supports up to CUDA 10.2.0.\n",
      "│ For performance reasons, it is recommended to upgrade to a driver that supports CUDA 11.2 or higher.\n",
      "└ @ CUDA C:\\Users\\anhin\\.julia\\packages\\CUDA\\mVgLI\\src\\initialization.jl:42\n"
     ]
    }
   ],
   "source": [
    "import Flux"
   ]
  },
  {
   "cell_type": "code",
   "execution_count": 2,
   "id": "afe939e4",
   "metadata": {},
   "outputs": [
    {
     "data": {
      "text/plain": [
       "f (generic function with 1 method)"
      ]
     },
     "execution_count": 2,
     "metadata": {},
     "output_type": "execute_result"
    }
   ],
   "source": [
    "f(x)=max(0,x)"
   ]
  },
  {
   "cell_type": "code",
   "execution_count": 16,
   "id": "37ec2dae",
   "metadata": {},
   "outputs": [
    {
     "data": {
      "text/plain": [
       "3-element Vector{Float32}:\n",
       "  3.0\n",
       " -4.0\n",
       "  8.0"
      ]
     },
     "execution_count": 16,
     "metadata": {},
     "output_type": "execute_result"
    }
   ],
   "source": [
    "x = [3f0, -4f0, 8f0]"
   ]
  },
  {
   "cell_type": "code",
   "execution_count": 5,
   "id": "46b6342e",
   "metadata": {},
   "outputs": [],
   "source": [
    "using Flux"
   ]
  },
  {
   "cell_type": "code",
   "execution_count": 17,
   "id": "abd3aea9",
   "metadata": {},
   "outputs": [
    {
     "data": {
      "text/plain": [
       "Params([Float32[3.0, -4.0, 8.0]])"
      ]
     },
     "execution_count": 17,
     "metadata": {},
     "output_type": "execute_result"
    }
   ],
   "source": [
    "p = params(x)"
   ]
  },
  {
   "cell_type": "code",
   "execution_count": 18,
   "id": "048ab92b",
   "metadata": {},
   "outputs": [
    {
     "data": {
      "text/plain": [
       "3-element Vector{Float32}:\n",
       " 3.0\n",
       " 0.0\n",
       " 8.0"
      ]
     },
     "execution_count": 18,
     "metadata": {},
     "output_type": "execute_result"
    }
   ],
   "source": [
    "map(f, x)"
   ]
  },
  {
   "cell_type": "code",
   "execution_count": 19,
   "id": "f6297755",
   "metadata": {},
   "outputs": [
    {
     "data": {
      "text/plain": [
       "11.0f0"
      ]
     },
     "execution_count": 19,
     "metadata": {},
     "output_type": "execute_result"
    }
   ],
   "source": [
    "sum(map(f, x))"
   ]
  },
  {
   "cell_type": "code",
   "execution_count": 20,
   "id": "84b78172",
   "metadata": {},
   "outputs": [
    {
     "data": {
      "text/plain": [
       "Grads(...)"
      ]
     },
     "execution_count": 20,
     "metadata": {},
     "output_type": "execute_result"
    }
   ],
   "source": [
    "grads = gradient(()->sum(map(f, x)), p)"
   ]
  },
  {
   "cell_type": "code",
   "execution_count": 21,
   "id": "551b5a0b",
   "metadata": {},
   "outputs": [
    {
     "data": {
      "text/plain": [
       "3-element Vector{Float32}:\n",
       " 1.0\n",
       " 0.0\n",
       " 1.0"
      ]
     },
     "execution_count": 21,
     "metadata": {},
     "output_type": "execute_result"
    }
   ],
   "source": [
    "grads[x]"
   ]
  },
  {
   "cell_type": "code",
   "execution_count": 22,
   "id": "d9ad42c2",
   "metadata": {},
   "outputs": [
    {
     "data": {
      "text/plain": [
       "Dict{Any, Float32} with 3 entries:\n",
       "  \"y\" => 4.0\n",
       "  8   => -3.0\n",
       "  :x  => 0.0"
      ]
     },
     "execution_count": 22,
     "metadata": {},
     "output_type": "execute_result"
    }
   ],
   "source": [
    "pars = Dict(:x=>0f0, \"y\"=>4f0, 8=>-3f0)"
   ]
  },
  {
   "cell_type": "code",
   "execution_count": 24,
   "id": "33bc7cee",
   "metadata": {},
   "outputs": [
    {
     "data": {
      "text/plain": [
       "KeySet for a Dict{Any, Float32} with 3 entries. Keys:\n",
       "  \"y\"\n",
       "  8\n",
       "  :x"
      ]
     },
     "execution_count": 24,
     "metadata": {},
     "output_type": "execute_result"
    }
   ],
   "source": [
    "keys(pars)"
   ]
  },
  {
   "cell_type": "code",
   "execution_count": 25,
   "id": "13388985",
   "metadata": {},
   "outputs": [
    {
     "data": {
      "text/plain": [
       "Dict{Any, Float32} with 3 entries:\n",
       "  :x  => 0.0\n",
       "  8   => 0.0\n",
       "  \"y\" => 4.0"
      ]
     },
     "execution_count": 25,
     "metadata": {},
     "output_type": "execute_result"
    }
   ],
   "source": [
    "Dict(k=>f(pars[k]) for k in keys(pars))"
   ]
  },
  {
   "cell_type": "code",
   "execution_count": 26,
   "id": "82ff081d",
   "metadata": {},
   "outputs": [
    {
     "data": {
      "text/plain": [
       "Params([])"
      ]
     },
     "execution_count": 26,
     "metadata": {},
     "output_type": "execute_result"
    }
   ],
   "source": [
    "pd = params(pars)"
   ]
  },
  {
   "cell_type": "code",
   "execution_count": 28,
   "id": "063a8411",
   "metadata": {},
   "outputs": [
    {
     "data": {
      "text/plain": [
       "ValueIterator for a Dict{Any, Float32} with 3 entries. Values:\n",
       "  4.0f0\n",
       "  -3.0f0\n",
       "  0.0f0"
      ]
     },
     "execution_count": 28,
     "metadata": {},
     "output_type": "execute_result"
    }
   ],
   "source": [
    "values(pars)"
   ]
  },
  {
   "cell_type": "code",
   "execution_count": 30,
   "id": "a105b5a2",
   "metadata": {},
   "outputs": [
    {
     "data": {
      "text/plain": [
       "4.0f0"
      ]
     },
     "execution_count": 30,
     "metadata": {},
     "output_type": "execute_result"
    }
   ],
   "source": [
    "sum(values(Dict(k=>f(pars[k]) for k in keys(pars))))"
   ]
  },
  {
   "cell_type": "code",
   "execution_count": 31,
   "id": "1028610b",
   "metadata": {},
   "outputs": [
    {
     "ename": "LoadError",
     "evalue": "MethodError: no method matching iterate(::ErrorException)\n\u001b[0mClosest candidates are:\n\u001b[0m  iterate(\u001b[91m::Union{LinRange, StepRangeLen}\u001b[39m) at range.jl:664\n\u001b[0m  iterate(\u001b[91m::Union{LinRange, StepRangeLen}\u001b[39m, \u001b[91m::Int64\u001b[39m) at range.jl:664\n\u001b[0m  iterate(\u001b[91m::T\u001b[39m) where T<:Union{Base.KeySet{var\"#s79\", var\"#s78\"} where {var\"#s79\", var\"#s78\"<:Dict}, Base.ValueIterator{var\"#s77\"} where var\"#s77\"<:Dict} at dict.jl:693\n\u001b[0m  ...",
     "output_type": "error",
     "traceback": [
      "MethodError: no method matching iterate(::ErrorException)\n\u001b[0mClosest candidates are:\n\u001b[0m  iterate(\u001b[91m::Union{LinRange, StepRangeLen}\u001b[39m) at range.jl:664\n\u001b[0m  iterate(\u001b[91m::Union{LinRange, StepRangeLen}\u001b[39m, \u001b[91m::Int64\u001b[39m) at range.jl:664\n\u001b[0m  iterate(\u001b[91m::T\u001b[39m) where T<:Union{Base.KeySet{var\"#s79\", var\"#s78\"} where {var\"#s79\", var\"#s78\"<:Dict}, Base.ValueIterator{var\"#s77\"} where var\"#s77\"<:Dict} at dict.jl:693\n\u001b[0m  ...",
      "",
      "Stacktrace:",
      "  [1] indexed_iterate(I::ErrorException, i::Int64)",
      "    @ Base .\\tuple.jl:89",
      "  [2] #s3010#1217",
      "    @ C:\\Users\\anhin\\.julia\\packages\\Zygote\\0da6K\\src\\compiler\\interface2.jl:28 [inlined]",
      "  [3] var\"#s3010#1217\"(::Any, ctx::Any, f::Any, args::Any)",
      "    @ Zygote .\\none:0",
      "  [4] (::Core.GeneratedFunctionStub)(::Any, ::Vararg{Any, N} where N)",
      "    @ Core .\\boot.jl:571",
      "  [5] _pullback",
      "    @ .\\In[31]:1 [inlined]",
      "  [6] _pullback(::Zygote.Context, ::var\"#15#17\")",
      "    @ Zygote C:\\Users\\anhin\\.julia\\packages\\Zygote\\0da6K\\src\\compiler\\interface2.jl:0",
      "  [7] pullback(f::Function, ps::Zygote.Params)",
      "    @ Zygote C:\\Users\\anhin\\.julia\\packages\\Zygote\\0da6K\\src\\compiler\\interface.jl:250",
      "  [8] gradient(f::Function, args::Zygote.Params)",
      "    @ Zygote C:\\Users\\anhin\\.julia\\packages\\Zygote\\0da6K\\src\\compiler\\interface.jl:58",
      "  [9] top-level scope",
      "    @ In[31]:1",
      " [10] eval",
      "    @ .\\boot.jl:360 [inlined]",
      " [11] include_string(mapexpr::typeof(REPL.softscope), mod::Module, code::String, filename::String)",
      "    @ Base .\\loading.jl:1094"
     ]
    }
   ],
   "source": [
    "grads = gradient(()->sum(values(Dict(k=>f(pars[k]) for k in keys(pars)))), pd)"
   ]
  },
  {
   "cell_type": "code",
   "execution_count": 33,
   "id": "a10d211b",
   "metadata": {},
   "outputs": [
    {
     "data": {
      "text/plain": [
       "Grads(...)"
      ]
     },
     "execution_count": 33,
     "metadata": {},
     "output_type": "execute_result"
    }
   ],
   "source": [
    "# test an example from https://discourse.julialang.org/t/list-comprehension-in-zygote/41881/7\n",
    "\n",
    "w = randn(5)\n",
    "grads = gradient(params(w)) do\n",
    "    dict = Dict{Int, Float64}(i => v for (i,v) in enumerate(w))\n",
    "    # m = maximum(i*v for (i,v) in dict) # doesn't work\n",
    "    m = maximum(i -> i * dict[i], eachindex(w)) # works\n",
    "    k = randn(5)\n",
    "    sum(k .- m)\n",
    "end"
   ]
  },
  {
   "cell_type": "code",
   "execution_count": 34,
   "id": "4d1b85e8",
   "metadata": {},
   "outputs": [
    {
     "data": {
      "text/plain": [
       "5-element Vector{Float64}:\n",
       "   0.0\n",
       "   0.0\n",
       "   0.0\n",
       " -20.0\n",
       "   0.0"
      ]
     },
     "execution_count": 34,
     "metadata": {},
     "output_type": "execute_result"
    }
   ],
   "source": [
    "grads[w]"
   ]
  },
  {
   "cell_type": "code",
   "execution_count": 35,
   "id": "3dbafeaa",
   "metadata": {},
   "outputs": [
    {
     "data": {
      "text/plain": [
       "5-element Vector{Float64}:\n",
       " -1.1023486804734226\n",
       " -0.3668550123369823\n",
       "  0.9043130209527922\n",
       "  1.8999952767174157\n",
       " -0.28891773863642767"
      ]
     },
     "execution_count": 35,
     "metadata": {},
     "output_type": "execute_result"
    }
   ],
   "source": [
    "w"
   ]
  },
  {
   "cell_type": "code",
   "execution_count": 36,
   "id": "b96e42d6",
   "metadata": {},
   "outputs": [
    {
     "data": {
      "text/plain": [
       "enumerate([-1.1023486804734226, -0.3668550123369823, 0.9043130209527922, 1.8999952767174157, -0.28891773863642767])"
      ]
     },
     "execution_count": 36,
     "metadata": {},
     "output_type": "execute_result"
    }
   ],
   "source": [
    "enumerate(w)"
   ]
  },
  {
   "cell_type": "code",
   "execution_count": 40,
   "id": "eb2b56b9",
   "metadata": {},
   "outputs": [
    {
     "data": {
      "text/plain": [
       "Dict{Int64, Float64} with 5 entries:\n",
       "  5 => -0.288918\n",
       "  4 => 1.9\n",
       "  2 => -0.366855\n",
       "  3 => 0.904313\n",
       "  1 => -1.10235"
      ]
     },
     "execution_count": 40,
     "metadata": {},
     "output_type": "execute_result"
    }
   ],
   "source": [
    "dict = Dict{Int, Float64}(i => v for (i,v) in enumerate(w))"
   ]
  },
  {
   "cell_type": "code",
   "execution_count": 38,
   "id": "6e642d56",
   "metadata": {},
   "outputs": [
    {
     "data": {
      "text/plain": [
       "Base.OneTo(5)"
      ]
     },
     "execution_count": 38,
     "metadata": {},
     "output_type": "execute_result"
    }
   ],
   "source": [
    "eachindex(w)"
   ]
  },
  {
   "cell_type": "code",
   "execution_count": 41,
   "id": "2d878351",
   "metadata": {},
   "outputs": [
    {
     "data": {
      "text/plain": [
       "7.599981106869663"
      ]
     },
     "execution_count": 41,
     "metadata": {},
     "output_type": "execute_result"
    }
   ],
   "source": [
    "m = maximum(i*v for (i,v) in dict) # gradient doesn't work"
   ]
  },
  {
   "cell_type": "code",
   "execution_count": 42,
   "id": "10f3bb25",
   "metadata": {},
   "outputs": [
    {
     "data": {
      "text/plain": [
       "7.599981106869663"
      ]
     },
     "execution_count": 42,
     "metadata": {},
     "output_type": "execute_result"
    }
   ],
   "source": [
    "m = maximum(i -> i * dict[i], eachindex(w)) # gradient works"
   ]
  },
  {
   "cell_type": "code",
   "execution_count": 43,
   "id": "09333fc8",
   "metadata": {},
   "outputs": [
    {
     "data": {
      "text/plain": [
       "5-element Vector{Float64}:\n",
       " -0.7872126582020299\n",
       " -0.14606729956981565\n",
       " -2.308545916020537\n",
       " -1.2319227561813213\n",
       "  2.4929111672818425"
      ]
     },
     "execution_count": 43,
     "metadata": {},
     "output_type": "execute_result"
    }
   ],
   "source": [
    "k = randn(5)"
   ]
  },
  {
   "cell_type": "code",
   "execution_count": 44,
   "id": "534cb431",
   "metadata": {},
   "outputs": [
    {
     "data": {
      "text/plain": [
       "-39.98074299704017"
      ]
     },
     "execution_count": 44,
     "metadata": {},
     "output_type": "execute_result"
    }
   ],
   "source": [
    "sum(k .- m)"
   ]
  },
  {
   "cell_type": "code",
   "execution_count": 48,
   "id": "58bb3a0b",
   "metadata": {},
   "outputs": [
    {
     "data": {
      "text/plain": [
       "sum_relu_dict (generic function with 1 method)"
      ]
     },
     "execution_count": 48,
     "metadata": {},
     "output_type": "execute_result"
    }
   ],
   "source": [
    "# rewriting sum(values(Dict(k=>f(pars[k]) for k in keys(pars))))\n",
    "\n",
    "function sum_relu_dict(d)\n",
    "    s = 0f0\n",
    "    for k in keys(d)\n",
    "        s += f(d[k])\n",
    "    end\n",
    "    s\n",
    "end"
   ]
  },
  {
   "cell_type": "code",
   "execution_count": 49,
   "id": "1ef0a77e",
   "metadata": {},
   "outputs": [
    {
     "data": {
      "text/plain": [
       "4.0f0"
      ]
     },
     "execution_count": 49,
     "metadata": {},
     "output_type": "execute_result"
    }
   ],
   "source": [
    "sum_relu_dict(pars)"
   ]
  },
  {
   "cell_type": "code",
   "execution_count": 50,
   "id": "770692c5",
   "metadata": {},
   "outputs": [
    {
     "data": {
      "text/plain": [
       "Grads(...)"
      ]
     },
     "execution_count": 50,
     "metadata": {},
     "output_type": "execute_result"
    }
   ],
   "source": [
    "grads = gradient(()->sum_relu_dict(pars), pd)"
   ]
  },
  {
   "cell_type": "code",
   "execution_count": 51,
   "id": "b83dde21",
   "metadata": {},
   "outputs": [
    {
     "data": {
      "text/plain": [
       "Dict{Any, Any} with 3 entries:\n",
       "  \"y\" => 1.0\n",
       "  8   => 0.0\n",
       "  :x  => 1.0"
      ]
     },
     "execution_count": 51,
     "metadata": {},
     "output_type": "execute_result"
    }
   ],
   "source": [
    "grads[pars]"
   ]
  },
  {
   "cell_type": "code",
   "execution_count": null,
   "id": "a35ff95e",
   "metadata": {},
   "outputs": [],
   "source": []
  }
 ],
 "metadata": {
  "kernelspec": {
   "display_name": "Julia 1.6.1",
   "language": "julia",
   "name": "julia-1.6"
  },
  "language_info": {
   "file_extension": ".jl",
   "mimetype": "application/julia",
   "name": "julia",
   "version": "1.6.1"
  }
 },
 "nbformat": 4,
 "nbformat_minor": 5
}
